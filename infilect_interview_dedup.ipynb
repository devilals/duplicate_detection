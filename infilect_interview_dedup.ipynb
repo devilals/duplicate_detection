{
 "cells": [
  {
   "cell_type": "code",
   "execution_count": 1,
   "metadata": {
    "collapsed": false,
    "deletable": true,
    "editable": true
   },
   "outputs": [],
   "source": [
    "import tensorflow as tf\n",
    "import numpy as np\n",
    "import cv2\n",
    "import pandas as pd\n",
    "import urllib.request\n"
   ]
  },
  {
   "cell_type": "code",
   "execution_count": 63,
   "metadata": {
    "collapsed": false,
    "deletable": true,
    "editable": true,
    "scrolled": true
   },
   "outputs": [],
   "source": [
    "## Below code loads the original given CSV file (small-2oq-c1r.csv) and save a smaller CSV containing only \"tops\"\n",
    "## Uncomment below code for first time generating the product listing of \"tops\" and saving in another CSV \n",
    "\n",
    "#df1 = pd.read_csv(\"small-2oq-c1r.csv\", error_bad_lines=False, low_memory=False)\n",
    "#print(df1)\n",
    "\n",
    "#df2 = df1.set_index('categories', drop=False)\n",
    "#df3 = df2.loc[\"Apparels>Women>Western Wear>Shirts, Tops & Tunics>Tops\"]\n",
    "#df3.to_csv('tops_listings_small.csv', index=False)"
   ]
  },
  {
   "cell_type": "code",
   "execution_count": 64,
   "metadata": {
    "collapsed": false,
    "deletable": true,
    "editable": true
   },
   "outputs": [
    {
     "name": "stderr",
     "output_type": "stream",
     "text": [
      "C:\\Users\\DELL\\Anaconda3\\envs\\dog-project\\lib\\site-packages\\IPython\\core\\interactiveshell.py:2717: DtypeWarning: Columns (19) have mixed types. Specify dtype option on import or set low_memory=False.\n",
      "  interactivity=interactivity, compiler=compiler, result=result)\n"
     ]
    }
   ],
   "source": [
    "df3 = pd.read_csv(\"tops_listings_small.csv\")"
   ]
  },
  {
   "cell_type": "code",
   "execution_count": 143,
   "metadata": {
    "collapsed": false
   },
   "outputs": [
    {
     "name": "stdout",
     "output_type": "stream",
     "text": [
      "Total number of products with sub-category tops =  333162\n",
      "Current samples this program is running for:  333\n"
     ]
    }
   ],
   "source": [
    "## listings with index as productId\n",
    "df3 = df3.set_index('productId', drop=False)\n",
    "N = df3.shape[0]\n",
    "print(\"Total number of products with sub-category tops = \", N)\n",
    "\n",
    "n = (int)(N/1000.0)\n",
    "print(\"Current samples this program is running for: \",n) "
   ]
  },
  {
   "cell_type": "code",
   "execution_count": 66,
   "metadata": {
    "collapsed": false
   },
   "outputs": [
    {
     "data": {
      "text/plain": [
       "1549"
      ]
     },
     "execution_count": 66,
     "metadata": {},
     "output_type": "execute_result"
    }
   ],
   "source": [
    "## test code\n",
    "prod = df3.loc['TOPE7BDHRF6CHJ7G']\n",
    "prod.mrp"
   ]
  },
  {
   "cell_type": "code",
   "execution_count": 4,
   "metadata": {
    "collapsed": true
   },
   "outputs": [],
   "source": [
    "def getImageUrls(prod):\n",
    "    url_str = prod.imageUrlStr\n",
    "    img_urls = url_str.split(';')\n",
    "    return img_urls"
   ]
  },
  {
   "cell_type": "code",
   "execution_count": 5,
   "metadata": {
    "collapsed": true
   },
   "outputs": [],
   "source": [
    "def getImagesFromUrls(urls):\n",
    "    img=[]\n",
    "    for url in urls:\n",
    "        req = urllib.request.urlopen(url)\n",
    "        arr = np.asarray(bytearray(req.read()), dtype=np.uint8)\n",
    "        img.append(cv2.imdecode(arr, -1)) # 'Load it as it is'\n",
    "        #print(url)\n",
    "    return img"
   ]
  },
  {
   "cell_type": "code",
   "execution_count": 6,
   "metadata": {
    "collapsed": false
   },
   "outputs": [
    {
     "name": "stderr",
     "output_type": "stream",
     "text": [
      "C:\\Users\\DELL\\Anaconda3\\envs\\dog-project\\lib\\site-packages\\gensim\\utils.py:1197: UserWarning: detected Windows; aliasing chunkize to chunkize_serial\n",
      "  warnings.warn(\"detected Windows; aliasing chunkize to chunkize_serial\")\n",
      "C:\\Users\\DELL\\Anaconda3\\envs\\dog-project\\lib\\site-packages\\ipykernel\\__main__.py:5: DeprecationWarning: Call to deprecated `wv` (Attribute will be removed in 4.0.0, use self instead).\n"
     ]
    }
   ],
   "source": [
    "from scipy import spatial\n",
    "from gensim import models\n",
    "\n",
    "model = models.KeyedVectors.load_word2vec_format('GoogleNews-vectors-negative300.bin', binary=True)\n",
    "index2word_set = set(model.wv.index2word)\n",
    "\n",
    "def avg_feature_vector(sentence, model, num_features, index2word_set):\n",
    "    words = sentence.split()\n",
    "    feature_vec = np.zeros((num_features, ), dtype='float32')\n",
    "    n_words = 0\n",
    "    for word in words:\n",
    "        if word in index2word_set:\n",
    "            n_words += 1\n",
    "            feature_vec = np.add(feature_vec, model[word])\n",
    "    if (n_words > 0):\n",
    "        feature_vec = np.divide(feature_vec, n_words)\n",
    "    return feature_vec"
   ]
  },
  {
   "cell_type": "code",
   "execution_count": 7,
   "metadata": {
    "collapsed": false,
    "deletable": true,
    "editable": true
   },
   "outputs": [],
   "source": [
    "from PIL import Image\n",
    "import imagehash\n",
    "import sys\n",
    "import time\n",
    "\n",
    "def similarImagesHash(products, n):\n",
    "    similarImages = {}\n",
    "    for i in range(0, n):\n",
    "        urls = getImageUrls(products.iloc[i])\n",
    "        #print(\"total images in this listing are :\", len(urls))\n",
    "        #urls[0]\n",
    "    \n",
    "        image = getImagesFromUrls(urls)\n",
    "        #print(len(image))\n",
    "        #hashc = hashp = None\n",
    "        hash = str(imagehash.average_hash(Image.fromarray(image[0])))\n",
    "        \n",
    "## below for loop is to check if all images are similar for a given product\n",
    "\n",
    "#        for j in range (len(image)):\n",
    "#            #print(image[j].shape)\n",
    "#            hashc = imagehash.average_hash(Image.fromarray(image[j]))\n",
    "#            if (hashc != hashp):\n",
    "#                print(\"product \",i,\": different hashc and hashp, images are not similar -\", hashc, hashp)\n",
    "#            \n",
    "#            hashPrev = hashc\n",
    "\n",
    "        #if hash0 in similarImages:\n",
    "            #print(products.iloc[i].productId, '(for index', i,')  already exists as', ' '.join(similarImages[hash0]))\n",
    "        \n",
    "        if(i%5 == 0):\n",
    "            print(\"Progress\",i,\"/\",n, end=\"\\r\")\n",
    "            #time.sleep(1)\n",
    "            #sys.stdout.flush()\n",
    "        similarImages[hash] = similarImages.get(hash, []) + [products.iloc[i].productId]\n",
    "\n",
    "    return similarImages"
   ]
  },
  {
   "cell_type": "code",
   "execution_count": 8,
   "metadata": {
    "collapsed": false,
    "deletable": true,
    "editable": true
   },
   "outputs": [
    {
     "name": "stdout",
     "output_type": "stream",
     "text": [
      "Progress 330 / 333\r"
     ]
    }
   ],
   "source": [
    "similarImages = similarImagesHash(df3, n)"
   ]
  },
  {
   "cell_type": "code",
   "execution_count": 112,
   "metadata": {
    "collapsed": false,
    "scrolled": true
   },
   "outputs": [],
   "source": [
    "## display the dictionary with all tuples with similar images (only primary image is taken into consideration)\n",
    "#for k, v in similarImages.items():\n",
    "#    print(k, v)"
   ]
  },
  {
   "cell_type": "code",
   "execution_count": 11,
   "metadata": {
    "collapsed": false
   },
   "outputs": [],
   "source": [
    "## writing similar image products disctionary to a JSON file for easy access\n",
    "import json\n",
    "json.dump(similarImages, open('similarImages.json', 'w'))"
   ]
  },
  {
   "cell_type": "code",
   "execution_count": 12,
   "metadata": {
    "collapsed": false
   },
   "outputs": [],
   "source": [
    "## reading the similar Image products from JSON \n",
    "simIm = json.load(open('similarImages.json', 'r'))\n",
    "\n",
    "#for keys, values in simIm.items():\n",
    "#    print(keys, values)"
   ]
  },
  {
   "cell_type": "code",
   "execution_count": 35,
   "metadata": {
    "collapsed": false,
    "deletable": true,
    "editable": true
   },
   "outputs": [
    {
     "name": "stdout",
     "output_type": "stream",
     "text": [
      "total images in this listing are : 4\n",
      "http://img.fkcdn.com/image/top/r/h/n/1-1-wwtpws0128-citrine-l-original-imae9a7e9txtzwz2.jpeg\n",
      "4\n",
      "(1498, 667, 3)\n",
      "(200, 89, 3)\n",
      "(400, 178, 3)\n",
      "(800, 356, 3)\n"
     ]
    }
   ],
   "source": [
    "## below is the test code\n",
    "urls = getImageUrls(df3.iloc[0])\n",
    "\n",
    "print(\"total images in this listing are :\", len(urls))\n",
    "print(urls[0])\n",
    "\n",
    "image = getImagesFromUrls(urls)\n",
    "print(len(image))\n",
    "for i in range (len(image)):\n",
    "    print(image[i].shape)\n"
   ]
  },
  {
   "cell_type": "code",
   "execution_count": 15,
   "metadata": {
    "collapsed": false,
    "deletable": true,
    "editable": true
   },
   "outputs": [
    {
     "data": {
      "text/plain": [
       "productId                                               TOPE9ABBZU3HZRHN\n",
       "title                  Citrine Casual Short Sleeve Printed Women's Pi...\n",
       "description            This beautiful printed modal top from Citrine ...\n",
       "imageUrlStr            http://img.fkcdn.com/image/top/r/h/n/1-1-wwtpw...\n",
       "mrp                                                                 1099\n",
       "sellingPrice                                                         329\n",
       "specialPrice                                                         329\n",
       "productUrl             http://dl.flipkart.com/dl/citrine-casual-short...\n",
       "categories             Apparels>Women>Western Wear>Shirts, Tops & Tun...\n",
       "productBrand                                                     Citrine\n",
       "productFamily          TOPE9ABBBTJYDSQE,TOPE9ABBHJ8HGGGK,TOPE9ABBPDAN...\n",
       "inStock                                                            False\n",
       "codAvailable                                                        True\n",
       "offers                                                               NaN\n",
       "discount                                                              70\n",
       "shippingCharges                                                        0\n",
       "deliveryTime                                                         NaN\n",
       "size                                                                   S\n",
       "color                                                    Pink, Off White\n",
       "sizeUnit                                                             NaN\n",
       "storage                                                              NaN\n",
       "displaySize                                                          NaN\n",
       "keySpecsStr            Round Neck, Short Sleeve;Fabric: Modal;Pattern...\n",
       "detailedSpecsStr       Round Neck, Short Sleeve;Fabric: Modal;Pattern...\n",
       "specificationList                                                    NaN\n",
       "sellerName                                                 Shweta Mathur\n",
       "sellerAverageRating                                                  3.4\n",
       "sellerNoOfRatings                                                     11\n",
       "sellerNoOfReviews                                                      0\n",
       "sleeve                                                      Short Sleeve\n",
       "neck                                                          Round Neck\n",
       "idealFor                                                             NaN\n",
       "Name: 0, dtype: object"
      ]
     },
     "execution_count": 15,
     "metadata": {},
     "output_type": "execute_result"
    }
   ],
   "source": [
    "## display one product with all the fields\n",
    "df3.iloc[0]\n",
    "#df3.iloc[53].description"
   ]
  },
  {
   "cell_type": "code",
   "execution_count": 16,
   "metadata": {
    "collapsed": true,
    "deletable": true,
    "editable": true
   },
   "outputs": [],
   "source": [
    "def areImagesSameForProducts(prod1, prod2):\n",
    "    if(prod1.imageUrlStr == prod2.imageUrlStr):\n",
    "        return True\n",
    "    return False"
   ]
  },
  {
   "cell_type": "code",
   "execution_count": 28,
   "metadata": {
    "collapsed": false,
    "deletable": true,
    "editable": true
   },
   "outputs": [],
   "source": [
    "def similarText(text1, text2):\n",
    "    s1_afv = avg_feature_vector(text1, model=model, num_features=300, index2word_set=index2word_set)\n",
    "    s2_afv = avg_feature_vector(text2, model=model, num_features=300, index2word_set=index2word_set)\n",
    "    sim = 1 - spatial.distance.cosine(s1_afv, s2_afv)\n",
    "    #print(sim)\n",
    "    return sim\n"
   ]
  },
  {
   "cell_type": "code",
   "execution_count": 67,
   "metadata": {
    "collapsed": false
   },
   "outputs": [],
   "source": [
    "def titleDescSimilarity(prod1, prod2, str):\n",
    "    if(str == \"title\"):\n",
    "        text1 = prod1.title\n",
    "        text2 = prod2.title\n",
    "    elif(str == \"desc\"):\n",
    "        text1 = prod1.description\n",
    "        text2 = prod2.description\n",
    "    else:\n",
    "        return -1\n",
    "\n",
    "    if(text1 and text2):\n",
    "        try:\n",
    "            simText = similarText(text1, text2)\n",
    "        except:\n",
    "            #print(\"AttributeError ---:\")\n",
    "            return -1\n",
    "\n",
    "        simText = round(simText,4)\n",
    "\n",
    "## below commented code is for debug and prints\n",
    "\n",
    "#        if (simText<=1.0 and simText >0.99):\n",
    "#            print(simText)\n",
    "#            print(df3.iloc[i].productId, text1)\n",
    "#            print(df3.iloc[j].productId, text2)\n",
    "#            urlsi = getImageUrls(df3.iloc[i])\n",
    "#            print(urlsi[0])\n",
    "#            urlsj = getImageUrls(df3.iloc[j])\n",
    "#            print(urlsj[0])\n",
    "\n",
    "    return simText"
   ]
  },
  {
   "cell_type": "code",
   "execution_count": 74,
   "metadata": {
    "collapsed": false
   },
   "outputs": [
    {
     "data": {
      "text/plain": [
       "-1"
      ]
     },
     "execution_count": 74,
     "metadata": {},
     "output_type": "execute_result"
    }
   ],
   "source": [
    "## test code\n",
    "titleDescSimilarity(df3.iloc[0], df3.iloc[1], \"desc\")"
   ]
  },
  {
   "cell_type": "code",
   "execution_count": 146,
   "metadata": {
    "collapsed": false
   },
   "outputs": [],
   "source": [
    "## The dictionary JSON preparation for duplicate detected products\n",
    "## considering products with same imagehash as duplicate with probablity 1.0 (100%)\n",
    "## Assumptions:\n",
    "## products with only difference in sizes are considered duplicates \n",
    "## products with only difference in color are not considered duplicates \n",
    "\n",
    "duplicate_produts = {}\n",
    "for keys, values in simIm.items():\n",
    "    #print(\"------\")\n",
    "    #print(keys)\n",
    "    #print(\"*****\")\n",
    "    key = values[0]\n",
    "    if (len(values) == 1):\n",
    "        duplicate_produts[key] = duplicate_produts.get(key, []) + []\n",
    "    #print(key)\n",
    "    for i in range(1, len(values)):\n",
    "        #print(len(values), values[0])\n",
    "        duplicate_produts[key] = duplicate_produts.get(key, []) + [[values[i], str(1.0)]]\n",
    "        #print(values[i])\n"
   ]
  },
  {
   "cell_type": "code",
   "execution_count": 147,
   "metadata": {
    "collapsed": true
   },
   "outputs": [],
   "source": [
    "#json.dump(duplicate_produts, open('dedup_products.json', 'w'))\n",
    "#dedup = json.load(open('dedup_products.json', 'r'))\n"
   ]
  },
  {
   "cell_type": "code",
   "execution_count": 148,
   "metadata": {
    "collapsed": false,
    "deletable": true,
    "editable": true
   },
   "outputs": [],
   "source": [
    "def deDuplicateFunc(prod1, prod2):\n",
    "    key = prod1.productId\n",
    "    try:\n",
    "        if(prod2.productId in duplicate_produts[key]):\n",
    "            return\n",
    "        else:\n",
    "            val = prod2.productId\n",
    "    except:\n",
    "        key = prod2.productId\n",
    "        try:\n",
    "            if(prod2.productId in duplicate_produts[key]):\n",
    "                return\n",
    "            else:\n",
    "                val = prod1.productId\n",
    "        except:\n",
    "            return\n",
    "        \n",
    "    titleSim = titleDescSimilarity(prod1, prod2, \"title\")\n",
    "    DescSim = titleDescSimilarity(prod1, prod2, \"desc\")\n",
    "    if(titleSim==1.0 and DescSim == 1.0):\n",
    "            duplicate_produts[key] = duplicate_produts.get(key, []) + [[val, str(0.6)]]\n",
    "    if(titleSim<1.0 and titleSim > 0.99):\n",
    "        if(DescSim<1.0 and DescSim>0.99):\n",
    "            if(prod2.productId in duplicate_produts[key]):\n",
    "                duplicate_produts[key] = duplicate_produts.get(key, []) + [[val, str(0.5)]]\n"
   ]
  },
  {
   "cell_type": "code",
   "execution_count": 149,
   "metadata": {
    "collapsed": false,
    "deletable": true,
    "editable": true,
    "scrolled": true
   },
   "outputs": [
    {
     "name": "stdout",
     "output_type": "stream",
     "text": [
      "Progress 330 / 333 / 333 320 / 333\r"
     ]
    }
   ],
   "source": [
    "#df3.shape[0]\n",
    "#count = 0\n",
    "for i in range(0, n):\n",
    "    if(i%10 == 0):\n",
    "        print(\"Progress\",i,\"/\",n, end=\"\\r\")\n",
    "    for j in range(i+1, n):\n",
    "        deDuplicateFunc(df3.iloc[i], df3.iloc[j])\n"
   ]
  },
  {
   "cell_type": "code",
   "execution_count": 150,
   "metadata": {
    "collapsed": true
   },
   "outputs": [],
   "source": [
    "json.dump(duplicate_produts, open('dedup_products.json', 'w'))"
   ]
  },
  {
   "cell_type": "code",
   "execution_count": null,
   "metadata": {
    "collapsed": false,
    "deletable": true,
    "editable": true
   },
   "outputs": [],
   "source": []
  },
  {
   "cell_type": "code",
   "execution_count": null,
   "metadata": {
    "collapsed": true,
    "deletable": true,
    "editable": true
   },
   "outputs": [],
   "source": []
  }
 ],
 "metadata": {
  "anaconda-cloud": {},
  "kernelspec": {
   "display_name": "Python [conda env:dog-project]",
   "language": "python",
   "name": "conda-env-dog-project-py"
  },
  "language_info": {
   "codemirror_mode": {
    "name": "ipython",
    "version": 3
   },
   "file_extension": ".py",
   "mimetype": "text/x-python",
   "name": "python",
   "nbconvert_exporter": "python",
   "pygments_lexer": "ipython3",
   "version": "3.5.3"
  }
 },
 "nbformat": 4,
 "nbformat_minor": 2
}

{
 "cells": [
  {
   "cell_type": "code",
   "execution_count": 1,
   "metadata": {
    "collapsed": false
   },
   "outputs": [],
   "source": [
    "import tensorflow as tf\n",
    "import numpy as np\n",
    "import cv2\n",
    "import pandas as pd\n",
    "import urllib.request\n"
   ]
  },
  {
   "cell_type": "code",
   "execution_count": 2,
   "metadata": {
    "collapsed": false,
    "scrolled": true
   },
   "outputs": [],
   "source": [
    "#df1 = pd.read_csv(\"small-2oq-c1r.csv\", error_bad_lines=False, low_memory=False)\n",
    "#print(df1)\n",
    "\n",
    "#df2 = df1.set_index('categories', drop=False)\n",
    "#df3 = df2.loc[\"Apparels>Women>Western Wear>Shirts, Tops & Tunics>Tops\"]\n",
    "#df3.to_csv('tops_listings_small.csv', index=False)"
   ]
  },
  {
   "cell_type": "code",
   "execution_count": 3,
   "metadata": {
    "collapsed": false
   },
   "outputs": [
    {
     "name": "stderr",
     "output_type": "stream",
     "text": [
      "C:\\Users\\DELL\\Anaconda3\\envs\\dog-project\\lib\\site-packages\\IPython\\core\\interactiveshell.py:2717: DtypeWarning: Columns (19) have mixed types. Specify dtype option on import or set low_memory=False.\n",
      "  interactivity=interactivity, compiler=compiler, result=result)\n"
     ]
    },
    {
     "data": {
      "text/plain": [
       "(333162, 32)"
      ]
     },
     "execution_count": 3,
     "metadata": {},
     "output_type": "execute_result"
    }
   ],
   "source": [
    "df3 = pd.read_csv(\"tops_listings_small.csv\")\n",
    "df3.shape\n"
   ]
  },
  {
   "cell_type": "code",
   "execution_count": 4,
   "metadata": {
    "collapsed": false
   },
   "outputs": [],
   "source": [
    "def getImageUrls(prod):\n",
    "    url_str = prod.imageUrlStr\n",
    "    img_urls = url_str.split(';')\n",
    "    return img_urls"
   ]
  },
  {
   "cell_type": "code",
   "execution_count": 5,
   "metadata": {
    "collapsed": false,
    "scrolled": true
   },
   "outputs": [],
   "source": [
    "\n",
    "\n",
    "def getImagesFromUrls(urls):\n",
    "    img=[]\n",
    "    for url in urls:\n",
    "        req = urllib.request.urlopen(url)\n",
    "        arr = np.asarray(bytearray(req.read()), dtype=np.uint8)\n",
    "        img.append(cv2.imdecode(arr, -1)) # 'Load it as it is'\n",
    "        print(np.shape(img))\n",
    "        \n",
    "    return img\n"
   ]
  },
  {
   "cell_type": "code",
   "execution_count": 6,
   "metadata": {
    "collapsed": false
   },
   "outputs": [
    {
     "name": "stdout",
     "output_type": "stream",
     "text": [
      "total images in this listing are : 4\n",
      "(1, 1498, 667, 3)\n",
      "(2,)\n",
      "(3,)\n",
      "(4,)\n",
      "4\n",
      "(1498, 667, 3)\n",
      "(200, 89, 3)\n",
      "(400, 178, 3)\n",
      "(800, 356, 3)\n"
     ]
    }
   ],
   "source": [
    "urls = getImageUrls(df3.iloc[0])\n",
    "\n",
    "print(\"total images in this listing are :\", len(urls))\n",
    "urls[0]\n",
    "\n",
    "image = getImagesFromUrls(urls)\n",
    "print(len(image))\n",
    "for i in range (len(image)):\n",
    "    print(image[i].shape)\n"
   ]
  },
  {
   "cell_type": "code",
   "execution_count": 7,
   "metadata": {
    "collapsed": false
   },
   "outputs": [],
   "source": [
    "#cv2.imshow('image', image[1])\n",
    "#cv2.waitKey(2)"
   ]
  },
  {
   "cell_type": "code",
   "execution_count": 8,
   "metadata": {
    "collapsed": false
   },
   "outputs": [
    {
     "data": {
      "text/plain": [
       "productId                                               TOPE9ABBZU3HZRHN\n",
       "title                  Citrine Casual Short Sleeve Printed Women's Pi...\n",
       "description            This beautiful printed modal top from Citrine ...\n",
       "imageUrlStr            http://img.fkcdn.com/image/top/r/h/n/1-1-wwtpw...\n",
       "mrp                                                                 1099\n",
       "sellingPrice                                                         329\n",
       "specialPrice                                                         329\n",
       "productUrl             http://dl.flipkart.com/dl/citrine-casual-short...\n",
       "categories             Apparels>Women>Western Wear>Shirts, Tops & Tun...\n",
       "productBrand                                                     Citrine\n",
       "productFamily          TOPE9ABBBTJYDSQE,TOPE9ABBHJ8HGGGK,TOPE9ABBPDAN...\n",
       "inStock                                                            False\n",
       "codAvailable                                                        True\n",
       "offers                                                               NaN\n",
       "discount                                                              70\n",
       "shippingCharges                                                        0\n",
       "deliveryTime                                                         NaN\n",
       "size                                                                   S\n",
       "color                                                    Pink, Off White\n",
       "sizeUnit                                                             NaN\n",
       "storage                                                              NaN\n",
       "displaySize                                                          NaN\n",
       "keySpecsStr            Round Neck, Short Sleeve;Fabric: Modal;Pattern...\n",
       "detailedSpecsStr       Round Neck, Short Sleeve;Fabric: Modal;Pattern...\n",
       "specificationList                                                    NaN\n",
       "sellerName                                                 Shweta Mathur\n",
       "sellerAverageRating                                                  3.4\n",
       "sellerNoOfRatings                                                     11\n",
       "sellerNoOfReviews                                                      0\n",
       "sleeve                                                      Short Sleeve\n",
       "neck                                                          Round Neck\n",
       "idealFor                                                             NaN\n",
       "Name: 0, dtype: object"
      ]
     },
     "execution_count": 8,
     "metadata": {},
     "output_type": "execute_result"
    }
   ],
   "source": [
    "i=0\n",
    "df3.iloc[i]\n",
    "#df3.iloc[53].description"
   ]
  },
  {
   "cell_type": "code",
   "execution_count": 9,
   "metadata": {
    "collapsed": true
   },
   "outputs": [],
   "source": [
    "def areImagesSameForProducts(prod1, prod2):\n",
    "    if(prod1.imageUrlStr == prod2.imageUrlStr):\n",
    "        return True\n",
    "    return False"
   ]
  },
  {
   "cell_type": "code",
   "execution_count": 12,
   "metadata": {
    "collapsed": false
   },
   "outputs": [],
   "source": [
    "#areImagesSameForProducts(df3.iloc[13], df3.iloc[14])\n",
    "\n"
   ]
  },
  {
   "cell_type": "code",
   "execution_count": 16,
   "metadata": {
    "collapsed": false
   },
   "outputs": [
    {
     "name": "stderr",
     "output_type": "stream",
     "text": [
      "C:\\Users\\DELL\\Anaconda3\\envs\\dog-project\\lib\\site-packages\\ipykernel\\__main__.py:6: DeprecationWarning: Call to deprecated `wv` (Attribute will be removed in 4.0.0, use self instead).\n"
     ]
    }
   ],
   "source": [
    "from scipy import spatial\n",
    "from gensim import models\n",
    "\n",
    "model = models.KeyedVectors.load_word2vec_format('GoogleNews-vectors-negative300.bin', binary=True)\n",
    "\n",
    "index2word_set = set(model.wv.index2word)\n",
    "\n",
    "def avg_feature_vector(sentence, model, num_features, index2word_set):\n",
    "    words = sentence.split()\n",
    "    feature_vec = np.zeros((num_features, ), dtype='float32')\n",
    "    n_words = 0\n",
    "    for word in words:\n",
    "        if word in index2word_set:\n",
    "            n_words += 1\n",
    "            feature_vec = np.add(feature_vec, model[word])\n",
    "    if (n_words > 0):\n",
    "        feature_vec = np.divide(feature_vec, n_words)\n",
    "    return feature_vec"
   ]
  },
  {
   "cell_type": "code",
   "execution_count": 27,
   "metadata": {
    "collapsed": false
   },
   "outputs": [
    {
     "name": "stdout",
     "output_type": "stream",
     "text": [
      "0.537812385646\n"
     ]
    }
   ],
   "source": [
    "s1_afv = avg_feature_vector(df3.iloc[298].description, model=model, num_features=300, index2word_set=index2word_set)\n",
    "s2_afv = avg_feature_vector(df3.iloc[299].description, model=model, num_features=300, index2word_set=index2word_set)\n",
    "sim = 1 - spatial.distance.cosine(s1_afv, s2_afv)\n",
    "print(sim)"
   ]
  },
  {
   "cell_type": "code",
   "execution_count": 29,
   "metadata": {
    "collapsed": true
   },
   "outputs": [],
   "source": [
    "def isDuplicate(prod1, prod2):\n",
    "    if(prod1.productId == prod2.productId):\n",
    "        return True\n",
    "    if(prod1.productUrl == prod2.productUrl):\n",
    "        return True\n",
    "    \n",
    "    #if(prod1.title == prod2.title):\n",
    "    #    if(prod1.description == prod2.description):\n",
    "    #        return True\n",
    "        \n",
    "    if(prod1.imageUrlStr == prod2.imageUrlStr):\n",
    "        return True\n",
    "\n",
    "    return False\n"
   ]
  },
  {
   "cell_type": "code",
   "execution_count": 28,
   "metadata": {
    "collapsed": false
   },
   "outputs": [
    {
     "name": "stdout",
     "output_type": "stream",
     "text": [
      "1 0 1\n",
      "2 5 6\n",
      "3 10 11\n",
      "4 13 14\n",
      "5 22 68\n",
      "6 22 69\n",
      "7 24 25\n",
      "8 27 28\n",
      "9 29 30\n",
      "10 39 40\n",
      "11 48 70\n",
      "12 48 71\n",
      "13 51 52\n",
      "14 51 53\n",
      "15 51 54\n",
      "16 52 53\n",
      "17 52 54\n",
      "18 53 54\n",
      "19 62 63\n",
      "20 62 64\n",
      "21 63 64\n",
      "22 68 69\n",
      "23 70 71\n",
      "24 75 76\n",
      "25 79 80\n",
      "26 87 88\n",
      "27 87 296\n",
      "28 88 296\n",
      "29 93 94\n",
      "30 95 96\n",
      "31 100 101\n",
      "32 102 308\n",
      "33 103 104\n",
      "34 109 110\n",
      "35 113 114\n",
      "36 119 120\n",
      "37 123 124\n",
      "38 125 126\n",
      "39 133 134\n",
      "40 135 136\n",
      "41 141 143\n",
      "42 142 144\n",
      "43 142 145\n",
      "44 144 145\n",
      "45 147 149\n",
      "46 147 150\n",
      "47 147 151\n",
      "48 149 150\n",
      "49 149 151\n",
      "50 150 151\n",
      "51 154 157\n",
      "52 155 156\n",
      "53 163 303\n",
      "54 167 168\n",
      "55 173 174\n",
      "56 173 175\n",
      "57 174 175\n",
      "58 183 184\n",
      "59 183 185\n",
      "60 184 185\n",
      "61 186 322\n",
      "62 189 190\n",
      "63 189 191\n",
      "64 189 309\n",
      "65 190 191\n",
      "66 190 309\n",
      "67 191 309\n",
      "68 194 195\n",
      "69 196 304\n",
      "70 199 200\n",
      "71 199 203\n",
      "72 200 203\n",
      "73 205 208\n",
      "74 206 207\n",
      "75 210 211\n",
      "76 210 212\n",
      "77 211 212\n",
      "78 213 214\n",
      "79 213 310\n",
      "80 213 329\n",
      "81 214 310\n",
      "82 214 329\n",
      "83 215 216\n",
      "84 215 332\n",
      "85 216 332\n",
      "86 217 218\n",
      "87 224 225\n",
      "88 228 229\n",
      "89 228 231\n",
      "90 228 232\n",
      "91 228 233\n",
      "92 228 234\n",
      "93 229 231\n",
      "94 229 232\n",
      "95 229 233\n",
      "96 229 234\n",
      "97 231 232\n",
      "98 231 233\n",
      "99 231 234\n",
      "100 232 233\n",
      "101 232 234\n",
      "102 233 234\n",
      "103 236 237\n",
      "104 236 238\n",
      "105 237 238\n",
      "106 239 240\n",
      "107 241 305\n",
      "108 242 243\n",
      "109 245 246\n",
      "110 259 260\n",
      "111 265 266\n",
      "112 273 307\n",
      "113 280 287\n",
      "114 310 329\n"
     ]
    }
   ],
   "source": [
    "#df3.shape[0]\n",
    "count = 0\n",
    "for i in range(0, (int)(df3.shape[0]/1000.0)):\n",
    "    for j in range(i+1, (int)(df3.shape[0]/1000.0)):\n",
    "        if(isDuplicate(df3.iloc[i], df3.iloc[j])):\n",
    "            count +=1\n",
    "            print(count, i, j)\n",
    "            #print(\"duplicate products:\", i,j, df3.iloc[i].productUrl, df3.iloc[j].productUrl)"
   ]
  },
  {
   "cell_type": "code",
   "execution_count": null,
   "metadata": {
    "collapsed": true
   },
   "outputs": [],
   "source": []
  }
 ],
 "metadata": {
  "anaconda-cloud": {},
  "kernelspec": {
   "display_name": "Python [conda env:dog-project]",
   "language": "python",
   "name": "conda-env-dog-project-py"
  },
  "language_info": {
   "codemirror_mode": {
    "name": "ipython",
    "version": 3
   },
   "file_extension": ".py",
   "mimetype": "text/x-python",
   "name": "python",
   "nbconvert_exporter": "python",
   "pygments_lexer": "ipython3",
   "version": "3.5.3"
  }
 },
 "nbformat": 4,
 "nbformat_minor": 2
}

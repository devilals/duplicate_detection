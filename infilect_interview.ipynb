{
 "cells": [
  {
   "cell_type": "code",
   "execution_count": 1,
   "metadata": {
    "collapsed": false
   },
   "outputs": [],
   "source": [
    "import tensorflow as tf\n",
    "import numpy as np\n",
    "import cv2\n",
    "import pandas as pd\n",
    "import urllib.request\n"
   ]
  },
  {
   "cell_type": "code",
   "execution_count": 2,
   "metadata": {
    "collapsed": false,
    "scrolled": true
   },
   "outputs": [],
   "source": [
    "#df1 = pd.read_csv(\"small-2oq-c1r.csv\", error_bad_lines=False, low_memory=False)\n",
    "#print(df1)\n",
    "\n",
    "#df2 = df1.set_index('categories', drop=False)\n",
    "#df3 = df2.loc[\"Apparels>Women>Western Wear>Shirts, Tops & Tunics>Tops\"]\n",
    "#df3.to_csv('tops_listings_small.csv', index=False)"
   ]
  },
  {
   "cell_type": "code",
   "execution_count": 3,
   "metadata": {
    "collapsed": false
   },
   "outputs": [
    {
     "name": "stderr",
     "output_type": "stream",
     "text": [
      "C:\\Users\\DELL\\Anaconda3\\envs\\dog-project\\lib\\site-packages\\IPython\\core\\interactiveshell.py:2717: DtypeWarning: Columns (19) have mixed types. Specify dtype option on import or set low_memory=False.\n",
      "  interactivity=interactivity, compiler=compiler, result=result)\n"
     ]
    },
    {
     "data": {
      "text/plain": [
       "(333162, 32)"
      ]
     },
     "execution_count": 3,
     "metadata": {},
     "output_type": "execute_result"
    }
   ],
   "source": [
    "df3 = pd.read_csv(\"tops_listings_small.csv\")\n",
    "df3.shape\n"
   ]
  },
  {
   "cell_type": "code",
   "execution_count": 4,
   "metadata": {
    "collapsed": false
   },
   "outputs": [],
   "source": [
    "def getImageUrls(prod):\n",
    "    url_str = prod.imageUrlStr\n",
    "    img_urls = url_str.split(';')\n",
    "    return img_urls"
   ]
  },
  {
   "cell_type": "code",
   "execution_count": 5,
   "metadata": {
    "collapsed": false,
    "scrolled": true
   },
   "outputs": [],
   "source": [
    "\n",
    "\n",
    "def getImagesFromUrls(urls):\n",
    "    img=[]\n",
    "    for url in urls:\n",
    "        req = urllib.request.urlopen(url)\n",
    "        arr = np.asarray(bytearray(req.read()), dtype=np.uint8)\n",
    "        img.append(cv2.imdecode(arr, -1)) # 'Load it as it is'\n",
    "        print(np.shape(img))\n",
    "        \n",
    "    return img\n"
   ]
  },
  {
   "cell_type": "code",
   "execution_count": 6,
   "metadata": {
    "collapsed": false
   },
   "outputs": [
    {
     "name": "stdout",
     "output_type": "stream",
     "text": [
      "total images in this listing are : 4\n",
      "(1, 1498, 667, 3)\n",
      "(2,)\n",
      "(3,)\n",
      "(4,)\n",
      "4\n",
      "(1498, 667, 3)\n",
      "(200, 89, 3)\n",
      "(400, 178, 3)\n",
      "(800, 356, 3)\n"
     ]
    }
   ],
   "source": [
    "urls = getImageUrls(df3.iloc[0])\n",
    "\n",
    "print(\"total images in this listing are :\", len(urls))\n",
    "urls[0]\n",
    "\n",
    "image = getImagesFromUrls(urls)\n",
    "print(len(image))\n",
    "for i in range (len(image)):\n",
    "    print(image[i].shape)\n"
   ]
  },
  {
   "cell_type": "code",
   "execution_count": 7,
   "metadata": {
    "collapsed": false
   },
   "outputs": [],
   "source": [
    "#cv2.imshow('image', image[1])\n",
    "#cv2.waitKey(2)"
   ]
  },
  {
   "cell_type": "code",
   "execution_count": 11,
   "metadata": {
    "collapsed": false
   },
   "outputs": [
    {
     "data": {
      "text/plain": [
       "productId                                               TOPE9ABBZU3HZRHN\n",
       "title                  Citrine Casual Short Sleeve Printed Women's Pi...\n",
       "description            This beautiful printed modal top from Citrine ...\n",
       "imageUrlStr            http://img.fkcdn.com/image/top/r/h/n/1-1-wwtpw...\n",
       "mrp                                                                 1099\n",
       "sellingPrice                                                         329\n",
       "specialPrice                                                         329\n",
       "productUrl             http://dl.flipkart.com/dl/citrine-casual-short...\n",
       "categories             Apparels>Women>Western Wear>Shirts, Tops & Tun...\n",
       "productBrand                                                     Citrine\n",
       "productFamily          TOPE9ABBBTJYDSQE,TOPE9ABBHJ8HGGGK,TOPE9ABBPDAN...\n",
       "inStock                                                            False\n",
       "codAvailable                                                        True\n",
       "offers                                                               NaN\n",
       "discount                                                              70\n",
       "shippingCharges                                                        0\n",
       "deliveryTime                                                         NaN\n",
       "size                                                                   S\n",
       "color                                                    Pink, Off White\n",
       "sizeUnit                                                             NaN\n",
       "storage                                                              NaN\n",
       "displaySize                                                          NaN\n",
       "keySpecsStr            Round Neck, Short Sleeve;Fabric: Modal;Pattern...\n",
       "detailedSpecsStr       Round Neck, Short Sleeve;Fabric: Modal;Pattern...\n",
       "specificationList                                                    NaN\n",
       "sellerName                                                 Shweta Mathur\n",
       "sellerAverageRating                                                  3.4\n",
       "sellerNoOfRatings                                                     11\n",
       "sellerNoOfReviews                                                      0\n",
       "sleeve                                                      Short Sleeve\n",
       "neck                                                          Round Neck\n",
       "idealFor                                                             NaN\n",
       "Name: 0, dtype: object"
      ]
     },
     "execution_count": 11,
     "metadata": {},
     "output_type": "execute_result"
    }
   ],
   "source": [
    "i=0\n",
    "df3.iloc[i]\n",
    "#df3.iloc[53].description"
   ]
  },
  {
   "cell_type": "code",
   "execution_count": 14,
   "metadata": {
    "collapsed": true
   },
   "outputs": [],
   "source": [
    "def areImagesSameForProducts(prod1, prod2):\n",
    "    if(prod1.imageUrlStr == prod2.imageUrlStr):\n",
    "        return True\n",
    "    return False"
   ]
  },
  {
   "cell_type": "code",
   "execution_count": 27,
   "metadata": {
    "collapsed": false
   },
   "outputs": [],
   "source": [
    "def isDuplicate(prod1, prod2):\n",
    "    if(prod1.productId == prod2.productId):\n",
    "        return True\n",
    "    if(prod1.productUrl == prod2.productUrl):\n",
    "        return True\n",
    "    \n",
    "    #if(prod1.title == prod2.title):\n",
    "    #    if(prod1.description == prod2.description):\n",
    "    #        return True\n",
    "    if(prod1.imageUrlStr == prod2.imageUrlStr):\n",
    "        return True\n",
    "    \n",
    "    return False\n"
   ]
  },
  {
   "cell_type": "code",
   "execution_count": 28,
   "metadata": {
    "collapsed": false
   },
   "outputs": [
    {
     "name": "stdout",
     "output_type": "stream",
     "text": [
      "1\n",
      "duplicate products: 0 1 TOPE9ABBZU3HZRHN TOPE9ABBBTJYDSQE\n",
      "2\n",
      "duplicate products: 5 6 TOPE6XZPXBP5APH9 TOPE6XZPRUAFWPBH\n",
      "3\n",
      "duplicate products: 10 11 TOPE7CD4ETPFHCDX TOPE7CD4FZXYEY2F\n",
      "4\n",
      "duplicate products: 13 14 TOPE8M6R2XZCZG8Z TOPE8M6RMN7SBFVG\n",
      "5\n",
      "duplicate products: 22 68 TOPE7G33BKEXZZHT TOPE7U8MTATAGP5P\n",
      "6\n",
      "duplicate products: 22 69 TOPE7G33BKEXZZHT TOPE7U8MSDMAP6FE\n",
      "7\n",
      "duplicate products: 24 25 TOPEF2HAJZ5PAXY6 TOPEF2HA7XH6TEEZ\n",
      "8\n",
      "duplicate products: 27 28 TOPE7U8MFBZXJZQX TOPE7U8MEDJHMJDT\n",
      "9\n",
      "duplicate products: 29 30 TOPE6KWBB7GFT8ET TOPE6KWB7QASBYVW\n",
      "10\n",
      "duplicate products: 39 40 TOPE6T9FGHWGTSB8 TOPE6T9FCG4FQGTC\n",
      "11\n",
      "duplicate products: 48 70 TOPE7G334D9WRSGP TOPE7U8MN9PXFVG9\n",
      "12\n",
      "duplicate products: 48 71 TOPE7G334D9WRSGP TOPE7U8M8DWXG8NY\n",
      "13\n",
      "duplicate products: 51 52 TOPE7U8MZFBHRHHP TOPE7U8MGBCRV7QG\n",
      "14\n",
      "duplicate products: 51 53 TOPE7U8MZFBHRHHP TOPE7U8MYVRRTMSU\n",
      "15\n",
      "duplicate products: 51 54 TOPE7U8MZFBHRHHP TOPE7U8MVFCJB6Z3\n",
      "16\n",
      "duplicate products: 52 53 TOPE7U8MGBCRV7QG TOPE7U8MYVRRTMSU\n",
      "17\n",
      "duplicate products: 52 54 TOPE7U8MGBCRV7QG TOPE7U8MVFCJB6Z3\n",
      "18\n",
      "duplicate products: 53 54 TOPE7U8MYVRRTMSU TOPE7U8MVFCJB6Z3\n",
      "19\n",
      "duplicate products: 62 63 TOPE6ZCKD9APZWXF TOPE6ZCKPPPAR7GF\n",
      "20\n",
      "duplicate products: 62 64 TOPE6ZCKD9APZWXF TOPE6ZCKZSURA2HU\n",
      "21\n",
      "duplicate products: 63 64 TOPE6ZCKPPPAR7GF TOPE6ZCKZSURA2HU\n",
      "22\n",
      "duplicate products: 68 69 TOPE7U8MTATAGP5P TOPE7U8MSDMAP6FE\n",
      "23\n",
      "duplicate products: 70 71 TOPE7U8MN9PXFVG9 TOPE7U8M8DWXG8NY\n",
      "24\n",
      "duplicate products: 75 76 TOPE5K6B7JKVT2XJ TOPE5K6BAUP9BRCQ\n",
      "25\n",
      "duplicate products: 79 80 TOPE5K6BHB8ZJXMH TOPE5K6BMMG5YJJJ\n",
      "26\n",
      "duplicate products: 87 88 TOPDY2PBFRHEC8VR TOPDY2PB5GW7SVZU\n",
      "27\n",
      "duplicate products: 87 296 TOPDY2PBFRHEC8VR TOPDY2PBVJRDNTDC\n",
      "28\n",
      "duplicate products: 88 296 TOPDY2PB5GW7SVZU TOPDY2PBVJRDNTDC\n",
      "29\n",
      "duplicate products: 93 94 TOPE7CKNXYAEJUUM TOPE7CKNEHPSXBHX\n",
      "30\n",
      "duplicate products: 95 96 TOPE7XCGTEBUZSHS TOPE7XCGF2FZVYSB\n",
      "31\n",
      "duplicate products: 100 101 TOPE8EXFDZWET454 TOPE8EXFFPGVDHFM\n",
      "32\n",
      "duplicate products: 102 308 TOPE6SDMFTQWVQ2N TOPE6SDMCDDVQPFK\n",
      "33\n",
      "duplicate products: 103 104 TOPE7KBHQDFJADWT TOPE7KBHD5GXVTXH\n",
      "34\n",
      "duplicate products: 109 110 TOPE8N22G4B4NER4 TOPE8N22KZUHR6YG\n",
      "35\n",
      "duplicate products: 113 114 TOPE8HQPTAYV7BCG TOPE8HQPW42CXGZY\n",
      "36\n",
      "duplicate products: 119 120 TOPEF2HAP4CMCYQ3 TOPEF2HAFGTWRDPD\n",
      "37\n",
      "duplicate products: 123 124 TOPE8ZAFQ9QMYJFT TOPE8ZAFM7DTTZPT\n",
      "38\n",
      "duplicate products: 125 126 TOPE8M9QSFYQRXZG TOPE8M9QVJ39ZZMX\n",
      "39\n",
      "duplicate products: 133 134 TOPE7XMMF3RDJBZ8 TOPE7XMMMUDDRFXU\n",
      "40\n",
      "duplicate products: 135 136 TOPE7XCGQ77PQ3VF TOPE7XCGRGBYH2TH\n",
      "41\n",
      "duplicate products: 141 143 TOPE7XHG9H3SMWFD TOPE7XHG3J7K7GZG\n",
      "42\n",
      "duplicate products: 142 144 TOPE7XMM7AJCF9WF TOPE7XMMJKHDUZ8P\n",
      "43\n",
      "duplicate products: 142 145 TOPE7XMM7AJCF9WF TOPE7XMMVF43YWN4\n",
      "44\n",
      "duplicate products: 144 145 TOPE7XMMJKHDUZ8P TOPE7XMMVF43YWN4\n",
      "45\n",
      "duplicate products: 147 149 TOPE7XHJPJ4HMBEF TOPE7XHGHX6GPPWG\n",
      "46\n",
      "duplicate products: 147 150 TOPE7XHJPJ4HMBEF TOPE7XHJXKWZ3VDG\n",
      "47\n",
      "duplicate products: 147 151 TOPE7XHJPJ4HMBEF TOPE7XHJPZHVGQH5\n",
      "48\n",
      "duplicate products: 149 150 TOPE7XHGHX6GPPWG TOPE7XHJXKWZ3VDG\n",
      "49\n",
      "duplicate products: 149 151 TOPE7XHGHX6GPPWG TOPE7XHJPZHVGQH5\n",
      "50\n",
      "duplicate products: 150 151 TOPE7XHJXKWZ3VDG TOPE7XHJPZHVGQH5\n",
      "51\n",
      "duplicate products: 154 157 TOPE7XMMDFTJJQBC TOPE7XMMNYGHRKMZ\n",
      "52\n",
      "duplicate products: 155 156 TOPE7XHGZZTFBFKN TOPE7XHGSYQQJYBJ\n",
      "53\n",
      "duplicate products: 163 303 TOPE8ZHJFYHBPBNH TOPE8ZHJYVFEHZAJ\n",
      "54\n",
      "duplicate products: 167 168 TOPE8ZEZMFCGAHHM TOPE8ZEZSTKAAHJF\n",
      "55\n",
      "duplicate products: 173 174 TOPE89GM4KNH3T4G TOPE89GMMHAD8YSD\n",
      "56\n",
      "duplicate products: 173 175 TOPE89GM4KNH3T4G TOPE89GMPQNAXFFZ\n",
      "57\n",
      "duplicate products: 174 175 TOPE89GMMHAD8YSD TOPE89GMPQNAXFFZ\n",
      "58\n",
      "duplicate products: 183 184 TOPE3WSTJNGYNB7J TOPE3WST4QQKKFKB\n",
      "59\n",
      "duplicate products: 183 185 TOPE3WSTJNGYNB7J TOPE3WST2J9CDPJA\n",
      "60\n",
      "duplicate products: 184 185 TOPE3WST4QQKKFKB TOPE3WST2J9CDPJA\n",
      "61\n",
      "duplicate products: 186 322 TOPE73V5EBQUUZS9 TOPE73V554NUNZHR\n",
      "62\n",
      "duplicate products: 189 190 TOPE83AFHHZYG9RN TOPE83AFRQ5YZDFY\n",
      "63\n",
      "duplicate products: 189 191 TOPE83AFHHZYG9RN TOPE83AFGTSV62BV\n",
      "64\n",
      "duplicate products: 189 309 TOPE83AFHHZYG9RN TOPE83AFVW2HZ9GY\n",
      "65\n",
      "duplicate products: 190 191 TOPE83AFRQ5YZDFY TOPE83AFGTSV62BV\n",
      "66\n",
      "duplicate products: 190 309 TOPE83AFRQ5YZDFY TOPE83AFVW2HZ9GY\n",
      "67\n",
      "duplicate products: 191 309 TOPE83AFGTSV62BV TOPE83AFVW2HZ9GY\n",
      "68\n",
      "duplicate products: 194 195 TOPE6TCAZ2RYNDYG TOPE6TCAPJTUF88C\n",
      "69\n",
      "duplicate products: 196 304 TOPE6TCATEKRVWGF TOPE6TCAZ23MFBES\n",
      "70\n",
      "duplicate products: 199 200 TOPE6SDMHNKV7YC9 TOPE6SDM89JSNZP3\n",
      "71\n",
      "duplicate products: 199 203 TOPE6SDMHNKV7YC9 TOPE6SDM4HJHHVG2\n",
      "72\n",
      "duplicate products: 200 203 TOPE6SDM89JSNZP3 TOPE6SDM4HJHHVG2\n",
      "73\n",
      "duplicate products: 205 208 TOPE986YYZMYEJQP TOPE986YGFW7JTFN\n",
      "74\n",
      "duplicate products: 206 207 TOPE986YEU9Z6TN5 TOPE986YUDZ3NKBY\n",
      "75\n",
      "duplicate products: 210 211 TOPE986YVZC4EZCZ TOPE986YMSK8FEDS\n",
      "76\n",
      "duplicate products: 210 212 TOPE986YVZC4EZCZ TOPE986YTQF4VSC6\n",
      "77\n",
      "duplicate products: 211 212 TOPE986YMSK8FEDS TOPE986YTQF4VSC6\n",
      "78\n",
      "duplicate products: 213 214 TOPE73V5HTEDKPAP TOPE73V5PBDPSRA4\n",
      "79\n",
      "duplicate products: 213 310 TOPE73V5HTEDKPAP TOPE73V5BCZNXDCR\n",
      "80\n",
      "duplicate products: 213 329 TOPE73V5HTEDKPAP TOPE73V5CR8DJVGY\n",
      "81\n",
      "duplicate products: 214 310 TOPE73V5PBDPSRA4 TOPE73V5BCZNXDCR\n",
      "82\n",
      "duplicate products: 214 329 TOPE73V5PBDPSRA4 TOPE73V5CR8DJVGY\n",
      "83\n",
      "duplicate products: 215 216 TOPE83AFJQK2XRSH TOPE83AFNNSMWYHT\n",
      "84\n",
      "duplicate products: 215 332 TOPE83AFJQK2XRSH TOPE83AFJBFDMRMB\n",
      "85\n",
      "duplicate products: 216 332 TOPE83AFNNSMWYHT TOPE83AFJBFDMRMB\n",
      "86\n",
      "duplicate products: 217 218 TOPE73V5FGVY6H5E TOPE73V5AWYY3GTF\n",
      "87\n",
      "duplicate products: 224 225 TOPE8YAUMTFX2RWC TOPE8YAUQ3JPR6K2\n",
      "88\n",
      "duplicate products: 228 229 TOPE7U8MRGVTVX52 TOPE7U8NBNS3PHN9\n",
      "89\n",
      "duplicate products: 228 231 TOPE7U8MRGVTVX52 TOPE7U8NFNMXGZMN\n",
      "90\n",
      "duplicate products: 228 232 TOPE7U8MRGVTVX52 TOPE7U8NGAHQGGVE\n",
      "91\n",
      "duplicate products: 228 233 TOPE7U8MRGVTVX52 TOPE7U8NB9DYEFZN\n",
      "92\n",
      "duplicate products: 228 234 TOPE7U8MRGVTVX52 TOPE7U8NNCFYHXRQ\n",
      "93\n",
      "duplicate products: 229 231 TOPE7U8NBNS3PHN9 TOPE7U8NFNMXGZMN\n",
      "94\n",
      "duplicate products: 229 232 TOPE7U8NBNS3PHN9 TOPE7U8NGAHQGGVE\n",
      "95\n",
      "duplicate products: 229 233 TOPE7U8NBNS3PHN9 TOPE7U8NB9DYEFZN\n",
      "96\n",
      "duplicate products: 229 234 TOPE7U8NBNS3PHN9 TOPE7U8NNCFYHXRQ\n",
      "97\n",
      "duplicate products: 231 232 TOPE7U8NFNMXGZMN TOPE7U8NGAHQGGVE\n",
      "98\n",
      "duplicate products: 231 233 TOPE7U8NFNMXGZMN TOPE7U8NB9DYEFZN\n",
      "99\n",
      "duplicate products: 231 234 TOPE7U8NFNMXGZMN TOPE7U8NNCFYHXRQ\n",
      "100\n",
      "duplicate products: 232 233 TOPE7U8NGAHQGGVE TOPE7U8NB9DYEFZN\n",
      "101\n",
      "duplicate products: 232 234 TOPE7U8NGAHQGGVE TOPE7U8NNCFYHXRQ\n",
      "102\n",
      "duplicate products: 233 234 TOPE7U8NB9DYEFZN TOPE7U8NNCFYHXRQ\n",
      "103\n",
      "duplicate products: 236 237 TOPE7U8MJFZRZKSW TOPE7U8MC9HCVEDW\n",
      "104\n",
      "duplicate products: 236 238 TOPE7U8MJFZRZKSW TOPE7U8MDAVGYSTD\n",
      "105\n",
      "duplicate products: 237 238 TOPE7U8MC9HCVEDW TOPE7U8MDAVGYSTD\n",
      "106\n",
      "duplicate products: 239 240 TOPE83AFTPRKMUUY TOPE83AFGJZCHQK9\n",
      "107\n",
      "duplicate products: 241 305 TOPE73V5D6BRFSAP TOPE73V5HC5CGP5P\n",
      "108\n",
      "duplicate products: 242 243 TOPE8YAU47SDXFED TOPE8YAUGSAPYUYQ\n",
      "109\n",
      "duplicate products: 245 246 TOPE73V5QBHDYYDZ TOPE73V5YRJHCGJH\n",
      "110\n",
      "duplicate products: 259 260 TOPE8SEUM9G7RYP9 TOPE8SEU8QPCWDHY\n",
      "111\n",
      "duplicate products: 265 266 TOPE7T5F9W8ZPV2H TOPE7T5FFFXGEV2H\n",
      "112\n",
      "duplicate products: 273 307 TOPE83AFUHDXTDZB TOPE83AFHTAH7KH3\n",
      "113\n",
      "duplicate products: 280 287 TOPE8R7JFVQUAZNT TOPE8R7JZ3MV6FY4\n",
      "114\n",
      "duplicate products: 310 329 TOPE73V5BCZNXDCR TOPE73V5CR8DJVGY\n"
     ]
    }
   ],
   "source": [
    "#df3.shape[0]\n",
    "count = 0\n",
    "for i in range(0, (int)(df3.shape[0]/1000.0)):\n",
    "    for j in range(i+1, (int)(df3.shape[0]/1000.0)):\n",
    "        if(isDuplicate(df3.iloc[i], df3.iloc[j])):\n",
    "            count +=1\n",
    "            print(count)\n",
    "            print(\"duplicate products:\", i,j, df3.iloc[i].productId, df3.iloc[j].productId)"
   ]
  },
  {
   "cell_type": "code",
   "execution_count": 29,
   "metadata": {
    "collapsed": false
   },
   "outputs": [],
   "source": [
    "#areImagesSameForProducts(df3.iloc[13], df3.iloc[14])\n",
    "\n"
   ]
  },
  {
   "cell_type": "code",
   "execution_count": null,
   "metadata": {
    "collapsed": false
   },
   "outputs": [],
   "source": []
  },
  {
   "cell_type": "code",
   "execution_count": null,
   "metadata": {
    "collapsed": false
   },
   "outputs": [],
   "source": []
  },
  {
   "cell_type": "code",
   "execution_count": null,
   "metadata": {
    "collapsed": true
   },
   "outputs": [],
   "source": []
  }
 ],
 "metadata": {
  "anaconda-cloud": {},
  "kernelspec": {
   "display_name": "Python [conda env:dog-project]",
   "language": "python",
   "name": "conda-env-dog-project-py"
  },
  "language_info": {
   "codemirror_mode": {
    "name": "ipython",
    "version": 3
   },
   "file_extension": ".py",
   "mimetype": "text/x-python",
   "name": "python",
   "nbconvert_exporter": "python",
   "pygments_lexer": "ipython3",
   "version": "3.5.3"
  }
 },
 "nbformat": 4,
 "nbformat_minor": 2
}

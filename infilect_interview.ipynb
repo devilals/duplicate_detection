{
 "cells": [
  {
   "cell_type": "code",
   "execution_count": null,
   "metadata": {
    "collapsed": false
   },
   "outputs": [],
   "source": [
    "import tensorflow as tf\n",
    "import numpy as np\n",
    "import cv2\n",
    "import pandas as pd\n",
    "import urllib.request\n"
   ]
  },
  {
   "cell_type": "code",
   "execution_count": null,
   "metadata": {
    "collapsed": false,
    "scrolled": true
   },
   "outputs": [],
   "source": [
    "#df1 = pd.read_csv(\"small-2oq-c1r.csv\", error_bad_lines=False, low_memory=False)\n",
    "#print(df1)\n",
    "\n",
    "#df2 = df1.set_index('categories', drop=False)\n",
    "#df3 = df2.loc[\"Apparels>Women>Western Wear>Shirts, Tops & Tunics>Tops\"]\n",
    "#df3.to_csv('tops_listings_small.csv', index=False)"
   ]
  },
  {
   "cell_type": "code",
   "execution_count": null,
   "metadata": {
    "collapsed": false
   },
   "outputs": [],
   "source": [
    "df3 = pd.read_csv(\"tops_listings_small.csv\")\n",
    "df3.shape[0]\n"
   ]
  },
  {
   "cell_type": "code",
   "execution_count": null,
   "metadata": {
    "collapsed": false
   },
   "outputs": [],
   "source": [
    "from PIL import Image\n",
    "import imagehash\n",
    "import sys\n",
    "import time\n",
    "\n",
    "def similarImagesHash(products, n):\n",
    "    similarImages = {}\n",
    "    for i in range(0, n):\n",
    "        urls = getImageUrls(products.iloc[i])\n",
    "        #print(\"total images in this listing are :\", len(urls))\n",
    "        #urls[0]\n",
    "    \n",
    "        image = getImagesFromUrls(urls)\n",
    "        #print(len(image))\n",
    "        hashc = hashp = None\n",
    "        hash0 = imagehash.average_hash(Image.fromarray(image[0]))\n",
    "        \n",
    "        #below for loop is to check if all images are similar for a given product\n",
    "        for j in range (len(image)):\n",
    "            #print(image[j].shape)\n",
    "            hashc = imagehash.average_hash(Image.fromarray(image[j]))\n",
    "            if (hashc != hashp):\n",
    "                print(\"product \",i,\": different hashc and hashp, images are not similar -\", hashc, hashp)\n",
    "            \n",
    "            hashPrev = hashc\n",
    "\n",
    "        #if hash0 in similarImages:\n",
    "            #print(products.iloc[i].productId, '(for index', i,')  already exists as', ' '.join(similarImages[hash0]))\n",
    "        \n",
    "        if(i%10 == 0):\n",
    "            print(\"Progress\",i,\"/\",n, end=\"\\r\")\n",
    "            #time.sleep(1)\n",
    "            #sys.stdout.flush()\n",
    "            \n",
    "        similarImages[hash0] = similarImages.get(hash0, []) + [products.iloc[i].productId]\n",
    "\n",
    "    return similarImages"
   ]
  },
  {
   "cell_type": "code",
   "execution_count": null,
   "metadata": {
    "collapsed": true
   },
   "outputs": [],
   "source": [
    "similarImages = similarImagesHash(df3, (int)(df3.shape[0]/1000.0))"
   ]
  },
  {
   "cell_type": "code",
   "execution_count": null,
   "metadata": {
    "collapsed": false
   },
   "outputs": [],
   "source": [
    "def getImageUrls(prod):\n",
    "    url_str = prod.imageUrlStr\n",
    "    img_urls = url_str.split(';')\n",
    "    return img_urls"
   ]
  },
  {
   "cell_type": "code",
   "execution_count": null,
   "metadata": {
    "collapsed": false,
    "scrolled": true
   },
   "outputs": [],
   "source": [
    "\n",
    "\n",
    "def getImagesFromUrls(urls):\n",
    "    img=[]\n",
    "    for url in urls:\n",
    "        req = urllib.request.urlopen(url)\n",
    "        arr = np.asarray(bytearray(req.read()), dtype=np.uint8)\n",
    "        img.append(cv2.imdecode(arr, -1)) # 'Load it as it is'\n",
    "        #print(url)\n",
    "    return img\n"
   ]
  },
  {
   "cell_type": "code",
   "execution_count": null,
   "metadata": {
    "collapsed": false
   },
   "outputs": [],
   "source": [
    "# below is the test code\n",
    "urls = getImageUrls(df3.iloc[0])\n",
    "\n",
    "print(\"total images in this listing are :\", len(urls))\n",
    "urls[0]\n",
    "\n",
    "image = getImagesFromUrls(urls)\n",
    "print(len(image))\n",
    "for i in range (len(image)):\n",
    "    print(image[i].shape)\n"
   ]
  },
  {
   "cell_type": "code",
   "execution_count": null,
   "metadata": {
    "collapsed": false
   },
   "outputs": [],
   "source": [
    "#cv2.imshow('image', image[1])\n",
    "#cv2.waitKey(2)"
   ]
  },
  {
   "cell_type": "code",
   "execution_count": null,
   "metadata": {
    "collapsed": false
   },
   "outputs": [],
   "source": [
    "#display one product with all the fields\n",
    "df3.iloc[0]\n",
    "#df3.iloc[53].description"
   ]
  },
  {
   "cell_type": "code",
   "execution_count": null,
   "metadata": {
    "collapsed": true
   },
   "outputs": [],
   "source": [
    "def areImagesSameForProducts(prod1, prod2):\n",
    "    if(prod1.imageUrlStr == prod2.imageUrlStr):\n",
    "        return True\n",
    "    return False"
   ]
  },
  {
   "cell_type": "code",
   "execution_count": null,
   "metadata": {
    "collapsed": false
   },
   "outputs": [],
   "source": [
    "from scipy import spatial\n",
    "from gensim import models\n",
    "\n",
    "model = models.KeyedVectors.load_word2vec_format('GoogleNews-vectors-negative300.bin', binary=True)\n",
    "index2word_set = set(model.wv.index2word)\n",
    "\n",
    "def avg_feature_vector(sentence, model, num_features, index2word_set):\n",
    "    words = sentence.split()\n",
    "    feature_vec = np.zeros((num_features, ), dtype='float32')\n",
    "    n_words = 0\n",
    "    for word in words:\n",
    "        if word in index2word_set:\n",
    "            n_words += 1\n",
    "            feature_vec = np.add(feature_vec, model[word])\n",
    "    if (n_words > 0):\n",
    "        feature_vec = np.divide(feature_vec, n_words)\n",
    "    return feature_vec"
   ]
  },
  {
   "cell_type": "code",
   "execution_count": null,
   "metadata": {
    "collapsed": false
   },
   "outputs": [],
   "source": [
    "def similarText(text1, text2):\n",
    "    s1_afv = avg_feature_vector(text1, model=model, num_features=300, index2word_set=index2word_set)\n",
    "    s2_afv = avg_feature_vector(text2, model=model, num_features=300, index2word_set=index2word_set)\n",
    "    sim = 1 - spatial.distance.cosine(s1_afv, s2_afv)\n",
    "    #print(sim)\n",
    "    return sim\n",
    "\n",
    "simText = similarText(df3.iloc[10].title, df3.iloc[115].title)\n",
    "simText = str(round(simText,4))\n",
    "print(simText)"
   ]
  },
  {
   "cell_type": "code",
   "execution_count": null,
   "metadata": {
    "collapsed": false
   },
   "outputs": [],
   "source": [
    "#display the dictionary with all tuples with similar images (only primary image is taken into consideration)\n",
    "for k, v in similarImages.items():\n",
    "    print(k, v)"
   ]
  },
  {
   "cell_type": "code",
   "execution_count": null,
   "metadata": {
    "collapsed": true
   },
   "outputs": [],
   "source": [
    "def isDuplicate(prod1, prod2):\n",
    "    if(prod1.productId == prod2.productId):\n",
    "        return True\n",
    "    if(prod1.productUrl == prod2.productUrl):\n",
    "        return True\n",
    "    \n",
    "    if(prod1.title == prod2.title or prod1.description == prod2.description) :\n",
    "        if(prod1.imageUrlStr != prod2.imageUrlStr):\n",
    "            return True\n",
    "\n",
    "    return False"
   ]
  },
  {
   "cell_type": "code",
   "execution_count": null,
   "metadata": {
    "collapsed": false,
    "scrolled": true
   },
   "outputs": [],
   "source": [
    "#df3.shape[0]\n",
    "count = 0\n",
    "for i in range(0, (int)(df3.shape[0]/1000.0)):\n",
    "    for j in range(i+1, (int)(df3.shape[0]/1000.0)):\n",
    "        if(isDuplicate(df3.iloc[i], df3.iloc[j])):\n",
    "            count +=1\n",
    "            print(count, i, j)\n",
    "            #print(\"duplicate products:\", i,j, df3.iloc[i].productUrl, df3.iloc[j].productUrl)"
   ]
  },
  {
   "cell_type": "code",
   "execution_count": null,
   "metadata": {
    "collapsed": false
   },
   "outputs": [],
   "source": [
    "a1 = 1.000234012\n",
    "a1 = str(round(a1, 2))\n",
    "print(a1)\n",
    "\n",
    "a2 = 1.02524552\n",
    "a2 = str(round(a2, 4))\n",
    "print(a2)"
   ]
  },
  {
   "cell_type": "code",
   "execution_count": null,
   "metadata": {
    "collapsed": true
   },
   "outputs": [],
   "source": []
  }
 ],
 "metadata": {
  "anaconda-cloud": {},
  "kernelspec": {
   "display_name": "Python [conda env:dog-project]",
   "language": "python",
   "name": "conda-env-dog-project-py"
  },
  "language_info": {
   "codemirror_mode": {
    "name": "ipython",
    "version": 3
   },
   "file_extension": ".py",
   "mimetype": "text/x-python",
   "name": "python",
   "nbconvert_exporter": "python",
   "pygments_lexer": "ipython3",
   "version": "3.5.3"
  }
 },
 "nbformat": 4,
 "nbformat_minor": 2
}
